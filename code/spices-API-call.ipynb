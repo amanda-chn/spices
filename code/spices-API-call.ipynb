{
 "cells": [
  {
   "cell_type": "code",
   "execution_count": 3,
   "id": "569eb90e",
   "metadata": {},
   "outputs": [],
   "source": [
    "import requests\n",
    "import pandas as pd\n",
    "import glob\n",
    "pd.set_option('display.max_columns', 500)"
   ]
  },
  {
   "cell_type": "code",
   "execution_count": 4,
   "id": "ad013e5a",
   "metadata": {
    "scrolled": true
   },
   "outputs": [],
   "source": [
    "#APIKey = 1d0f3ca0f000e171d86e278615589471\n",
    "\n",
    "url = 'https://api.edamam.com/api/recipes/v2?type=public&q=american&app_id=fe3b02cf&app_key=1d0f3ca0f000e171d86e278615589471&cuisineType=american&dishType=Main%20course'\n",
    "url_response = requests.get(url)\n",
    "american_recipe_data = url_response.json()  \n",
    "\n",
    "# url = american_recipe_data['_links']['next']['href']\n",
    "# url_response = requests.get(url)\n",
    "# american_recipe_data = url_response.json()  "
   ]
  },
  {
   "cell_type": "code",
   "execution_count": 5,
   "id": "85fdb271",
   "metadata": {},
   "outputs": [
    {
     "name": "stdout",
     "output_type": "stream",
     "text": [
      "Cauliflower Veloute with American Caviar\n",
      "All-American T-bone\n",
      "All-American Eggplant Parmesan Recipe\n",
      "Chinese-American Pork Roast\n",
      "South American Fishcake Recipe\n",
      "American Grocery's Honey Glazed Rabbit\n",
      "Lobster Scrambled Eggs with Caviar and Crème Fraîche Recipe\n",
      "Pop’s Double-Stuffed, Double-Fluffed American Omelet\n",
      "South American Fishcakes\n",
      "Classic Patty Melt recipes\n",
      "American Mandarin Chicken\n",
      "Italian-American Meatballs With Fennel\n",
      "Screamin' Macaroni and Cheese - American Style\n",
      "Traditional \"All-American\" Meatloaf\n",
      "Classic American Chili Mac With Elbows\n",
      "All-American Beef Stew Recipe\n",
      "Tuna Puff\n",
      "Classic Macaroni & Cheese\n",
      "Italian-American Meatballs\n",
      "All-American Meatloaf recipes\n"
     ]
    }
   ],
   "source": [
    "#check dishes\n",
    "for recipes in american_recipe_data['hits']:\n",
    "    dish_name = recipes['recipe']['label']\n",
    "    print(dish_name)"
   ]
  },
  {
   "cell_type": "markdown",
   "id": "77f94ae6",
   "metadata": {},
   "source": [
    "# Paginated API"
   ]
  },
  {
   "cell_type": "code",
   "execution_count": 8,
   "id": "aefc5a17",
   "metadata": {},
   "outputs": [
    {
     "data": {
      "text/plain": [
       "'https://api.edamam.com/api/recipes/v2?q=american&app_key=1d0f3ca0f000e171d86e278615589471&dishType=Main%20course&_cont=CHcVQBtNNQphDmgVQntAEX4BYlVtBgAHS2RJAmQbY1xzDAEVX3cWVWdBNVR6AlUDRjFCB2FFMgRwUQpWSm0TVmsWN1F1AxFqX3cWQT1OcV9xBB8VADQWVhFCPwoxXVZEITQeVDcBaR4-SQ%3D%3D&cuisineType=american&type=public&app_id=fe3b02cf'"
      ]
     },
     "execution_count": 8,
     "metadata": {},
     "output_type": "execute_result"
    }
   ],
   "source": [
    "#next page\n",
    "american_recipe_data['_links']['next']['href']"
   ]
  },
  {
   "cell_type": "markdown",
   "id": "8f46cb3c",
   "metadata": {},
   "source": [
    "# This gives me count of each ingredient from the ingredient column"
   ]
  },
  {
   "cell_type": "code",
   "execution_count": 763,
   "id": "f59917fe",
   "metadata": {},
   "outputs": [],
   "source": [
    "df = pd.DataFrame([result['recipe'] for result in american_recipe_data['hits']])\n"
   ]
  },
  {
   "cell_type": "code",
   "execution_count": 764,
   "id": "a9b8902b",
   "metadata": {},
   "outputs": [
    {
     "data": {
      "text/html": [
       "<div>\n",
       "<style scoped>\n",
       "    .dataframe tbody tr th:only-of-type {\n",
       "        vertical-align: middle;\n",
       "    }\n",
       "\n",
       "    .dataframe tbody tr th {\n",
       "        vertical-align: top;\n",
       "    }\n",
       "\n",
       "    .dataframe thead th {\n",
       "        text-align: right;\n",
       "    }\n",
       "</style>\n",
       "<table border=\"1\" class=\"dataframe\">\n",
       "  <thead>\n",
       "    <tr style=\"text-align: right;\">\n",
       "      <th></th>\n",
       "      <th>uri</th>\n",
       "      <th>label</th>\n",
       "      <th>image</th>\n",
       "      <th>images</th>\n",
       "      <th>source</th>\n",
       "      <th>url</th>\n",
       "      <th>shareAs</th>\n",
       "      <th>yield</th>\n",
       "      <th>dietLabels</th>\n",
       "      <th>healthLabels</th>\n",
       "      <th>cautions</th>\n",
       "      <th>ingredientLines</th>\n",
       "      <th>ingredients</th>\n",
       "      <th>calories</th>\n",
       "      <th>totalWeight</th>\n",
       "      <th>totalTime</th>\n",
       "      <th>cuisineType</th>\n",
       "      <th>mealType</th>\n",
       "      <th>dishType</th>\n",
       "      <th>totalNutrients</th>\n",
       "      <th>totalDaily</th>\n",
       "      <th>digest</th>\n",
       "    </tr>\n",
       "  </thead>\n",
       "  <tbody>\n",
       "    <tr>\n",
       "      <th>0</th>\n",
       "      <td>http://www.edamam.com/ontologies/edamam.owl#re...</td>\n",
       "      <td>Creole-Spiced Shrimp</td>\n",
       "      <td>https://edamam-product-images.s3.amazonaws.com...</td>\n",
       "      <td>{'THUMBNAIL': {'url': 'https://edamam-product-...</td>\n",
       "      <td>Epicurious</td>\n",
       "      <td>https://www.epicurious.com/recipes/food/views/...</td>\n",
       "      <td>http://www.edamam.com/recipe/creole-spiced-shr...</td>\n",
       "      <td>4.0</td>\n",
       "      <td>[Low-Carb]</td>\n",
       "      <td>[Sugar-Conscious, Egg-Free, Peanut-Free, Tree-...</td>\n",
       "      <td>[Gluten, Wheat, Sulfites]</td>\n",
       "      <td>[2 pounds unpeeled or peeled deveined shrimp, ...</td>\n",
       "      <td>[{'text': '2 pounds unpeeled or peeled deveine...</td>\n",
       "      <td>1577.255165</td>\n",
       "      <td>1208.668073</td>\n",
       "      <td>0.0</td>\n",
       "      <td>[american]</td>\n",
       "      <td>[lunch/dinner]</td>\n",
       "      <td>[main course]</td>\n",
       "      <td>{'ENERC_KCAL': {'label': 'Energy', 'quantity':...</td>\n",
       "      <td>{'ENERC_KCAL': {'label': 'Energy', 'quantity':...</td>\n",
       "      <td>[{'label': 'Fat', 'tag': 'FAT', 'schemaOrgTag'...</td>\n",
       "    </tr>\n",
       "    <tr>\n",
       "      <th>1</th>\n",
       "      <td>http://www.edamam.com/ontologies/edamam.owl#re...</td>\n",
       "      <td>Green Almond Stew (Khorest-eh Chagaleh Badam)</td>\n",
       "      <td>https://edamam-product-images.s3.amazonaws.com...</td>\n",
       "      <td>{'THUMBNAIL': {'url': 'https://edamam-product-...</td>\n",
       "      <td>Honest Cooking</td>\n",
       "      <td>http://honestcooking.com/green-almond-stew-kho...</td>\n",
       "      <td>http://www.edamam.com/recipe/green-almond-stew...</td>\n",
       "      <td>6.0</td>\n",
       "      <td>[High-Fiber, Low-Carb]</td>\n",
       "      <td>[Dairy-Free, Egg-Free, Peanut-Free, Soy-Free, ...</td>\n",
       "      <td>[Sulfites]</td>\n",
       "      <td>[3 cups, packed (8 oz) american parsley, ¾ tsp...</td>\n",
       "      <td>[{'text': '3 cups, packed (8 oz) american pars...</td>\n",
       "      <td>5662.188746</td>\n",
       "      <td>2714.022806</td>\n",
       "      <td>230.0</td>\n",
       "      <td>[american]</td>\n",
       "      <td>[lunch/dinner]</td>\n",
       "      <td>[main course]</td>\n",
       "      <td>{'ENERC_KCAL': {'label': 'Energy', 'quantity':...</td>\n",
       "      <td>{'ENERC_KCAL': {'label': 'Energy', 'quantity':...</td>\n",
       "      <td>[{'label': 'Fat', 'tag': 'FAT', 'schemaOrgTag'...</td>\n",
       "    </tr>\n",
       "    <tr>\n",
       "      <th>2</th>\n",
       "      <td>http://www.edamam.com/ontologies/edamam.owl#re...</td>\n",
       "      <td>Bacon-Jalapeño Stovetop Mac and Cheese Recipe</td>\n",
       "      <td>https://edamam-product-images.s3.amazonaws.com...</td>\n",
       "      <td>{'THUMBNAIL': {'url': 'https://edamam-product-...</td>\n",
       "      <td>Serious Eats</td>\n",
       "      <td>http://www.seriouseats.com/recipes/2015/10/bac...</td>\n",
       "      <td>http://www.edamam.com/recipe/bacon-jalape%C3%B...</td>\n",
       "      <td>6.0</td>\n",
       "      <td>[]</td>\n",
       "      <td>[Peanut-Free, Tree-Nut-Free, Soy-Free, Fish-Fr...</td>\n",
       "      <td>[Gluten, Wheat, Sulfites]</td>\n",
       "      <td>[8 ounces diced bacon, 1 to 2 red or green jal...</td>\n",
       "      <td>[{'text': '8 ounces diced bacon', 'quantity': ...</td>\n",
       "      <td>6077.108511</td>\n",
       "      <td>1887.571387</td>\n",
       "      <td>25.0</td>\n",
       "      <td>[american]</td>\n",
       "      <td>[lunch/dinner]</td>\n",
       "      <td>[main course]</td>\n",
       "      <td>{'ENERC_KCAL': {'label': 'Energy', 'quantity':...</td>\n",
       "      <td>{'ENERC_KCAL': {'label': 'Energy', 'quantity':...</td>\n",
       "      <td>[{'label': 'Fat', 'tag': 'FAT', 'schemaOrgTag'...</td>\n",
       "    </tr>\n",
       "  </tbody>\n",
       "</table>\n",
       "</div>"
      ],
      "text/plain": [
       "                                                 uri  \\\n",
       "0  http://www.edamam.com/ontologies/edamam.owl#re...   \n",
       "1  http://www.edamam.com/ontologies/edamam.owl#re...   \n",
       "2  http://www.edamam.com/ontologies/edamam.owl#re...   \n",
       "\n",
       "                                           label  \\\n",
       "0                           Creole-Spiced Shrimp   \n",
       "1  Green Almond Stew (Khorest-eh Chagaleh Badam)   \n",
       "2  Bacon-Jalapeño Stovetop Mac and Cheese Recipe   \n",
       "\n",
       "                                               image  \\\n",
       "0  https://edamam-product-images.s3.amazonaws.com...   \n",
       "1  https://edamam-product-images.s3.amazonaws.com...   \n",
       "2  https://edamam-product-images.s3.amazonaws.com...   \n",
       "\n",
       "                                              images          source  \\\n",
       "0  {'THUMBNAIL': {'url': 'https://edamam-product-...      Epicurious   \n",
       "1  {'THUMBNAIL': {'url': 'https://edamam-product-...  Honest Cooking   \n",
       "2  {'THUMBNAIL': {'url': 'https://edamam-product-...    Serious Eats   \n",
       "\n",
       "                                                 url  \\\n",
       "0  https://www.epicurious.com/recipes/food/views/...   \n",
       "1  http://honestcooking.com/green-almond-stew-kho...   \n",
       "2  http://www.seriouseats.com/recipes/2015/10/bac...   \n",
       "\n",
       "                                             shareAs  yield  \\\n",
       "0  http://www.edamam.com/recipe/creole-spiced-shr...    4.0   \n",
       "1  http://www.edamam.com/recipe/green-almond-stew...    6.0   \n",
       "2  http://www.edamam.com/recipe/bacon-jalape%C3%B...    6.0   \n",
       "\n",
       "               dietLabels                                       healthLabels  \\\n",
       "0              [Low-Carb]  [Sugar-Conscious, Egg-Free, Peanut-Free, Tree-...   \n",
       "1  [High-Fiber, Low-Carb]  [Dairy-Free, Egg-Free, Peanut-Free, Soy-Free, ...   \n",
       "2                      []  [Peanut-Free, Tree-Nut-Free, Soy-Free, Fish-Fr...   \n",
       "\n",
       "                    cautions  \\\n",
       "0  [Gluten, Wheat, Sulfites]   \n",
       "1                 [Sulfites]   \n",
       "2  [Gluten, Wheat, Sulfites]   \n",
       "\n",
       "                                     ingredientLines  \\\n",
       "0  [2 pounds unpeeled or peeled deveined shrimp, ...   \n",
       "1  [3 cups, packed (8 oz) american parsley, ¾ tsp...   \n",
       "2  [8 ounces diced bacon, 1 to 2 red or green jal...   \n",
       "\n",
       "                                         ingredients     calories  \\\n",
       "0  [{'text': '2 pounds unpeeled or peeled deveine...  1577.255165   \n",
       "1  [{'text': '3 cups, packed (8 oz) american pars...  5662.188746   \n",
       "2  [{'text': '8 ounces diced bacon', 'quantity': ...  6077.108511   \n",
       "\n",
       "   totalWeight  totalTime cuisineType        mealType       dishType  \\\n",
       "0  1208.668073        0.0  [american]  [lunch/dinner]  [main course]   \n",
       "1  2714.022806      230.0  [american]  [lunch/dinner]  [main course]   \n",
       "2  1887.571387       25.0  [american]  [lunch/dinner]  [main course]   \n",
       "\n",
       "                                      totalNutrients  \\\n",
       "0  {'ENERC_KCAL': {'label': 'Energy', 'quantity':...   \n",
       "1  {'ENERC_KCAL': {'label': 'Energy', 'quantity':...   \n",
       "2  {'ENERC_KCAL': {'label': 'Energy', 'quantity':...   \n",
       "\n",
       "                                          totalDaily  \\\n",
       "0  {'ENERC_KCAL': {'label': 'Energy', 'quantity':...   \n",
       "1  {'ENERC_KCAL': {'label': 'Energy', 'quantity':...   \n",
       "2  {'ENERC_KCAL': {'label': 'Energy', 'quantity':...   \n",
       "\n",
       "                                              digest  \n",
       "0  [{'label': 'Fat', 'tag': 'FAT', 'schemaOrgTag'...  \n",
       "1  [{'label': 'Fat', 'tag': 'FAT', 'schemaOrgTag'...  \n",
       "2  [{'label': 'Fat', 'tag': 'FAT', 'schemaOrgTag'...  "
      ]
     },
     "execution_count": 764,
     "metadata": {},
     "output_type": "execute_result"
    }
   ],
   "source": [
    "df.head(3)"
   ]
  },
  {
   "cell_type": "code",
   "execution_count": 765,
   "id": "10b08cef",
   "metadata": {},
   "outputs": [],
   "source": [
    "df_5 = df.ingredients.apply(lambda ingredients: [ingr['food'].lower().replace(\"-\", \" \") for ingr in ingredients]).str.join(',').str.get_dummies(sep=',').sum().sort_values(ascending=False).reset_index()\n"
   ]
  },
  {
   "cell_type": "code",
   "execution_count": 766,
   "id": "9fa61309",
   "metadata": {
    "scrolled": false
   },
   "outputs": [
    {
     "data": {
      "text/html": [
       "<div>\n",
       "<style scoped>\n",
       "    .dataframe tbody tr th:only-of-type {\n",
       "        vertical-align: middle;\n",
       "    }\n",
       "\n",
       "    .dataframe tbody tr th {\n",
       "        vertical-align: top;\n",
       "    }\n",
       "\n",
       "    .dataframe thead th {\n",
       "        text-align: right;\n",
       "    }\n",
       "</style>\n",
       "<table border=\"1\" class=\"dataframe\">\n",
       "  <thead>\n",
       "    <tr style=\"text-align: right;\">\n",
       "      <th></th>\n",
       "      <th>index</th>\n",
       "      <th>0</th>\n",
       "    </tr>\n",
       "  </thead>\n",
       "  <tbody>\n",
       "    <tr>\n",
       "      <th>0</th>\n",
       "      <td>black pepper</td>\n",
       "      <td>16</td>\n",
       "    </tr>\n",
       "    <tr>\n",
       "      <th>1</th>\n",
       "      <td>unsalted butter</td>\n",
       "      <td>11</td>\n",
       "    </tr>\n",
       "    <tr>\n",
       "      <th>2</th>\n",
       "      <td>kosher salt</td>\n",
       "      <td>11</td>\n",
       "    </tr>\n",
       "    <tr>\n",
       "      <th>3</th>\n",
       "      <td>garlic</td>\n",
       "      <td>10</td>\n",
       "    </tr>\n",
       "    <tr>\n",
       "      <th>4</th>\n",
       "      <td>american cheese</td>\n",
       "      <td>9</td>\n",
       "    </tr>\n",
       "    <tr>\n",
       "      <th>...</th>\n",
       "      <td>...</td>\n",
       "      <td>...</td>\n",
       "    </tr>\n",
       "    <tr>\n",
       "      <th>156</th>\n",
       "      <td>cooked white rice</td>\n",
       "      <td>1</td>\n",
       "    </tr>\n",
       "    <tr>\n",
       "      <th>157</th>\n",
       "      <td>colby jack cheese</td>\n",
       "      <td>1</td>\n",
       "    </tr>\n",
       "    <tr>\n",
       "      <th>158</th>\n",
       "      <td>coconut oil</td>\n",
       "      <td>1</td>\n",
       "    </tr>\n",
       "    <tr>\n",
       "      <th>159</th>\n",
       "      <td>coconut milk</td>\n",
       "      <td>1</td>\n",
       "    </tr>\n",
       "    <tr>\n",
       "      <th>160</th>\n",
       "      <td>zucchini</td>\n",
       "      <td>1</td>\n",
       "    </tr>\n",
       "  </tbody>\n",
       "</table>\n",
       "<p>161 rows × 2 columns</p>\n",
       "</div>"
      ],
      "text/plain": [
       "                 index   0\n",
       "0         black pepper  16\n",
       "1      unsalted butter  11\n",
       "2          kosher salt  11\n",
       "3               garlic  10\n",
       "4      american cheese   9\n",
       "..                 ...  ..\n",
       "156  cooked white rice   1\n",
       "157  colby jack cheese   1\n",
       "158        coconut oil   1\n",
       "159       coconut milk   1\n",
       "160           zucchini   1\n",
       "\n",
       "[161 rows x 2 columns]"
      ]
     },
     "execution_count": 766,
     "metadata": {},
     "output_type": "execute_result"
    }
   ],
   "source": [
    "df_5"
   ]
  },
  {
   "cell_type": "code",
   "execution_count": 767,
   "id": "6aea05f7",
   "metadata": {},
   "outputs": [],
   "source": [
    "df_5.to_csv('american_df_5.csv', header=['ingredients', 'sum'], index=False)"
   ]
  },
  {
   "cell_type": "markdown",
   "id": "db6e6a51",
   "metadata": {},
   "source": [
    "# Merge exported CSV files"
   ]
  },
  {
   "cell_type": "code",
   "execution_count": 768,
   "id": "942e906a",
   "metadata": {},
   "outputs": [],
   "source": [
    "df_1 = pd.read_table(\"american_df_1.csv\", sep=',')\n",
    "df_2 = pd.read_table(\"american_df_2.csv\", sep=',')\n",
    "df_3 = pd.read_table(\"american_df_3.csv\", sep=',')\n",
    "df_4 = pd.read_table(\"american_df_4.csv\", sep=',')\n",
    "df_5 = pd.read_table(\"american_df_5.csv\", sep=',')"
   ]
  },
  {
   "cell_type": "code",
   "execution_count": null,
   "id": "1844b4ae",
   "metadata": {},
   "outputs": [],
   "source": []
  },
  {
   "cell_type": "markdown",
   "id": "e8c667c9",
   "metadata": {},
   "source": [
    "# Concatonate"
   ]
  },
  {
   "cell_type": "code",
   "execution_count": 769,
   "id": "571e54c0",
   "metadata": {},
   "outputs": [],
   "source": [
    "df_american_concat = pd.concat([df_1, df_2, df_3, df_4, df_5]).groupby(by='ingredients').sum().sort_values(by='sum', ascending=False)\n"
   ]
  },
  {
   "cell_type": "code",
   "execution_count": 770,
   "id": "f8ee84ab",
   "metadata": {},
   "outputs": [],
   "source": [
    "df_american_concat.to_csv('df_american_concat.csv')"
   ]
  },
  {
   "cell_type": "code",
   "execution_count": null,
   "id": "3290b83c",
   "metadata": {},
   "outputs": [],
   "source": []
  },
  {
   "cell_type": "code",
   "execution_count": null,
   "id": "301b4f87",
   "metadata": {},
   "outputs": [],
   "source": []
  }
 ],
 "metadata": {
  "kernelspec": {
   "display_name": "Python 3 (ipykernel)",
   "language": "python",
   "name": "python3"
  },
  "language_info": {
   "codemirror_mode": {
    "name": "ipython",
    "version": 3
   },
   "file_extension": ".py",
   "mimetype": "text/x-python",
   "name": "python",
   "nbconvert_exporter": "python",
   "pygments_lexer": "ipython3",
   "version": "3.10.3"
  }
 },
 "nbformat": 4,
 "nbformat_minor": 5
}
